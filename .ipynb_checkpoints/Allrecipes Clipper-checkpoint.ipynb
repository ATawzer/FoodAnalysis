{
 "cells": [
  {
   "cell_type": "code",
   "execution_count": 46,
   "metadata": {},
   "outputs": [],
   "source": [
    "import pandas as pd\n",
    "from recipe_scrapers import scrape_me\n",
    "import time\n",
    "import random"
   ]
  },
  {
   "cell_type": "code",
   "execution_count": 16,
   "metadata": {},
   "outputs": [
    {
     "data": {
      "text/html": [
       "<div>\n",
       "<style scoped>\n",
       "    .dataframe tbody tr th:only-of-type {\n",
       "        vertical-align: middle;\n",
       "    }\n",
       "\n",
       "    .dataframe tbody tr th {\n",
       "        vertical-align: top;\n",
       "    }\n",
       "\n",
       "    .dataframe thead th {\n",
       "        text-align: right;\n",
       "    }\n",
       "</style>\n",
       "<table border=\"1\" class=\"dataframe\">\n",
       "  <thead>\n",
       "    <tr style=\"text-align: right;\">\n",
       "      <th></th>\n",
       "      <th>Type</th>\n",
       "      <th>URL</th>\n",
       "    </tr>\n",
       "  </thead>\n",
       "  <tbody>\n",
       "    <tr>\n",
       "      <th>0</th>\n",
       "      <td>choco_chip_cookie</td>\n",
       "      <td>https://www.allrecipes.com/recipe/10141/outrag...</td>\n",
       "    </tr>\n",
       "    <tr>\n",
       "      <th>1</th>\n",
       "      <td>choco_chip_cookie</td>\n",
       "      <td>https://www.allrecipes.com/recipe/10813/best-c...</td>\n",
       "    </tr>\n",
       "    <tr>\n",
       "      <th>2</th>\n",
       "      <td>choco_chip_cookie</td>\n",
       "      <td>https://www.allrecipes.com/recipe/10331/moms-c...</td>\n",
       "    </tr>\n",
       "    <tr>\n",
       "      <th>3</th>\n",
       "      <td>choco_chip_cookie</td>\n",
       "      <td>https://www.allrecipes.com/recipe/15475/stephe...</td>\n",
       "    </tr>\n",
       "    <tr>\n",
       "      <th>4</th>\n",
       "      <td>choco_chip_cookie</td>\n",
       "      <td>https://www.allrecipes.com/recipe/269607/choco...</td>\n",
       "    </tr>\n",
       "  </tbody>\n",
       "</table>\n",
       "</div>"
      ],
      "text/plain": [
       "                Type                                                URL\n",
       "0  choco_chip_cookie  https://www.allrecipes.com/recipe/10141/outrag...\n",
       "1  choco_chip_cookie  https://www.allrecipes.com/recipe/10813/best-c...\n",
       "2  choco_chip_cookie  https://www.allrecipes.com/recipe/10331/moms-c...\n",
       "3  choco_chip_cookie  https://www.allrecipes.com/recipe/15475/stephe...\n",
       "4  choco_chip_cookie  https://www.allrecipes.com/recipe/269607/choco..."
      ]
     },
     "execution_count": 16,
     "metadata": {},
     "output_type": "execute_result"
    }
   ],
   "source": [
    "def scrape_database():\n",
    "    \n",
    "    # read in database\n",
    "    path = 'recipe_url_database.csv'\n",
    "    output = 'scraped_database.csv'    \n",
    "    df = pd.read_csv(path)\n",
    "    df_scrape = df[df.Read == 0]\n",
    "    \n",
    "    # Dictionary to store information\n",
    "    d1 = {}\n",
    "    \n",
    "    # scrape and save information\n",
    "    for index in df_scrape:\n",
    "        \n",
    "        # Random Timing\n",
    "        x = random.randrange(2, 31, 1)\n",
    "        print(f\"Waiting for {x} Seconds\")\n",
    "        time.sleep(x)\n",
    "        \n",
    "        # Inits\n",
    "        d2 = {}\n",
    "        url = df_scrape.loc[index, 'URL']\n",
    "        scraper = scrape_me(url)\n",
    "        \n",
    "        # save information\n",
    "        d2['url'] = url\n",
    "        d2['title'] = scraper.title()\n",
    "        d2['total_time'] = scraper.total_time()\n",
    "        d2['yields'] = scraper.yields()\n",
    "        d2['ingredients'] = scraper.ingredients()\n",
    "        d2['instructions'] = scraper.instructions()\n",
    "        d2['rating'] = scraper.ratings()\n",
    "        d2['id'] = url.split('recipe/')[1].split('/')[0]\n",
    "\n",
    "        # save\n",
    "        d1['url'] = d2\n",
    "        df.loc[index, 'Read'] = 1\n",
    "    \n",
    "    df.to_csv(path)\n",
    "    return d1"
   ]
  },
  {
   "cell_type": "code",
   "execution_count": 19,
   "metadata": {},
   "outputs": [],
   "source": [
    "scraped_dict = scrape_database()"
   ]
  }
 ],
 "metadata": {
  "kernelspec": {
   "display_name": "Python 3",
   "language": "python",
   "name": "python3"
  },
  "language_info": {
   "codemirror_mode": {
    "name": "ipython",
    "version": 3
   },
   "file_extension": ".py",
   "mimetype": "text/x-python",
   "name": "python",
   "nbconvert_exporter": "python",
   "pygments_lexer": "ipython3",
   "version": "3.7.3"
  }
 },
 "nbformat": 4,
 "nbformat_minor": 2
}
