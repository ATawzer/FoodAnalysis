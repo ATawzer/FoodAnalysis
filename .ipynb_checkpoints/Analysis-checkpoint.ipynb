{
 "cells": [
  {
   "cell_type": "code",
   "execution_count": 3,
   "metadata": {},
   "outputs": [],
   "source": [
    "import pandas as pd\n",
    "import numpy as np\n",
    "import matplotlib.pyplot as plt\n",
    "import json\n",
    "import pymongo"
   ]
  },
  {
   "cell_type": "code",
   "execution_count": 2,
   "metadata": {},
   "outputs": [],
   "source": [
    "# Database setup\n",
    "client = pymongo.MongoClient(\"mongodb://localhost:27017/\")\n",
    "db = client['food_analysis']\n",
    "recipes = db['recipes']"
   ]
  },
  {
   "cell_type": "code",
   "execution_count": 3,
   "metadata": {},
   "outputs": [],
   "source": [
    "choco_chip = pd.DataFrame(list(recipes.find({\"title\":{\"$regex\":\"chocolate chip\", \"$options\" :'i'}})))"
   ]
  },
  {
   "cell_type": "code",
   "execution_count": 5,
   "metadata": {},
   "outputs": [],
   "source": [
    "choco_chip = pd.read_csv('choco_chip.csv')"
   ]
  },
  {
   "cell_type": "code",
   "execution_count": null,
   "metadata": {},
   "outputs": [],
   "source": [
    "choco_chip"
   ]
  },
  {
   "cell_type": "code",
   "execution_count": 39,
   "metadata": {},
   "outputs": [],
   "source": [
    "# Ingredient Reference\n",
    "ir = {\"flour\":{\n",
    "    \"types\":['all-purpose', \"white\", \"brown\", \"spelt\", \"oat\", \"millet\"\n",
    "             \"whole-wheat\", \"almond\", \"tapioca\", \"sorghum\", \"rice\", \"coconut\", \"garfava\"\n",
    "            \"barley\", \"cake\", \"bread\", \"self-rising\", \"soy\", \"pastry\"],\n",
    "    \"common_units\":[\"cup\", \"c.\", \"oz\", \"gram\", \"g\"]\n",
    "}}\n",
    "\n",
    "# Quantities\n",
    "units = [\"cup\", \"c.\" \"g\", \"gram\", 'teaspoon', \"tsp\", \"tbsp\", \"oz\", 'tablespoon','container','packet','bag', \"stick\",\n",
    "         'quart','pound','can','bottle', 'pint','package','ounce','jars','heads','gallons','drops',\n",
    "         'envelope','bar','box','pinch', 'dash','bunch','recipe','layer','slice','link','bulb','stalk','square','sprig',\n",
    "        'fillet','piece','leg','thigh','cube','granule','strip','tray','leave','loaves','halves']\n",
    "\n",
    "fractions = {\"↉\":\"0\", \"⅒\":\"1/10\", \"⅑\":\"1/9\", \"⅛\":\"1/8\", \n",
    "             \"⅐\":\"1/7\", \"⅙\":\"1/6\", \"⅕\":\"1/5\", \"¼\":\"1/4\", \n",
    "             \"⅓\":\"1/3\", \"½\":\"1/2\", \"⅖\":\"2/3\", \"⅔\":\"2/3\", \n",
    "             \"⅜\":\"3/8\", \"⅗\":\"3/5\", \"¾\":\"3/4\", \"⅘\":\"4/5\", \n",
    "             \"⅝\":\"5/8\", \"⅚\":\"5/6\", \"⅞\":\"7/8\"}"
   ]
  },
  {
   "cell_type": "code",
   "execution_count": 14,
   "metadata": {},
   "outputs": [],
   "source": [
    "# The staples\n",
    "choco_chip['ingredients'] = choco_chip.ingredients.replace(fractions)"
   ]
  },
  {
   "cell_type": "code",
   "execution_count": 36,
   "metadata": {},
   "outputs": [],
   "source": [
    "import ast\n",
    "ings = []\n",
    "for ing_list in choco_chip.ingredients:\n",
    "    ings.extend(ast.literal_eval(ing_list))"
   ]
  },
  {
   "cell_type": "code",
   "execution_count": 123,
   "metadata": {},
   "outputs": [],
   "source": [
    "def parse_quant(quant):\n",
    "    \n",
    "    if quant is None:\n",
    "        return 0\n",
    "    \n",
    "    fractions = {\"↉\":\"0\", \"⅒\":\"1/10\", \"⅑\":\"1/9\", \"⅛\":\"1/8\", \n",
    "                 \"⅐\":\"1/7\", \"⅙\":\"1/6\", \"⅕\":\"1/5\", \"¼\":\"1/4\", \n",
    "                 \"⅓\":\"1/3\", \"½\":\"1/2\", \"⅖\":\"2/3\", \"⅔\":\"2/3\", \n",
    "                 \"⅜\":\"3/8\", \"⅗\":\"3/5\", \"¾\":\"3/4\", \"⅘\":\"4/5\", \n",
    "                 \"⅝\":\"5/8\", \"⅚\":\"5/6\", \"⅞\":\"7/8\"}\n",
    "    \n",
    "    new_quant = quant.replace(\"⁄\", \"/\")\n",
    "    for frac in fractions:\n",
    "        if frac in quant:\n",
    "            new_quant.replace(frac, fractions[frac])\n",
    "            \n",
    "    quant_num = 0\n",
    "    for num in new_quant.split(\" \"):\n",
    "        try:\n",
    "            if \"/\" in num:\n",
    "                try:\n",
    "                    quant_num += ast.literal_eval(num.split(\"/\")[0])/ast.literal_eval(num.split(\"/\")[1])\n",
    "                except:\n",
    "                    quant_num += 0\n",
    "            else:\n",
    "                quant_num += ast.literal_eval(num)\n",
    "        except:\n",
    "            quant_num += 0\n",
    "    \n",
    "    return quant_num"
   ]
  },
  {
   "cell_type": "code",
   "execution_count": 124,
   "metadata": {
    "code_folding": [
     0
    ]
   },
   "outputs": [],
   "source": [
    "def parse_ingredient(ing):\n",
    "    \n",
    "    ing_dict = {\"ingredient_string\":ing,\n",
    "                    \"quant\":None,\n",
    "                    \"unit\":None,\n",
    "                    \"item\":None,\n",
    "                    \"descriptors\":None}\n",
    "    split_ing = [None, None]\n",
    "    \n",
    "    for unit in units:\n",
    "        if \" \"+unit+\"s \" in ing:\n",
    "            ing_dict[\"unit\"] = unit\n",
    "            split_ing = ing.split(\" \"+unit+\"s \")\n",
    "            break\n",
    "        elif \" \"+unit+\"es \" in ing:\n",
    "            ing_dict[\"unit\"] = unit\n",
    "            split_ing = ing.split(\" \"+unit+\"es \")\n",
    "            break\n",
    "        elif \" \"+unit+\" \" in ing:\n",
    "            ing_dict[\"unit\"] = unit\n",
    "            split_ing = ing.split(\" \"+unit+\" \")\n",
    "            break\n",
    "        else:\n",
    "            continue\n",
    "    \n",
    "    # Assign\n",
    "    ing_dict[\"quant\"] = parse_quant(split_ing[0])\n",
    "    ing_dict[\"item\"] = split_ing[1]\n",
    "            \n",
    "    # Special\n",
    "    if \"egg\" in ing:\n",
    "        ing_dict['item'] = \"egg\"\n",
    "        ing_dict[\"unit\"] = \"eggs\"\n",
    "        ing_dict[\"quant\"] = parse_quant(ing.split(\" \")[0])\n",
    "    \n",
    "    return ing_dict"
   ]
  },
  {
   "cell_type": "code",
   "execution_count": 125,
   "metadata": {},
   "outputs": [],
   "source": [
    "all_ings = {}\n",
    "for i, ing in enumerate(ings):\n",
    "    all_ings[i] = parse_ingredient(ing)"
   ]
  },
  {
   "cell_type": "code",
   "execution_count": 13,
   "metadata": {},
   "outputs": [
    {
     "ename": "SyntaxError",
     "evalue": "can't assign to function call (<ipython-input-13-9e2c56ef5d13>, line 2)",
     "output_type": "error",
     "traceback": [
      "\u001b[1;36m  File \u001b[1;32m\"<ipython-input-13-9e2c56ef5d13>\"\u001b[1;36m, line \u001b[1;32m2\u001b[0m\n\u001b[1;33m    for ing.lower() in recipe:\u001b[0m\n\u001b[1;37m       ^\u001b[0m\n\u001b[1;31mSyntaxError\u001b[0m\u001b[1;31m:\u001b[0m can't assign to function call\n"
     ]
    }
   ],
   "source": [
    "for recipe in choco_chip.ingredients:\n",
    "    for ing_ in recipe:\n",
    "        ing = ing_.lower()\n",
    "        split=[]\n",
    "        if \"flour\" in ing:\n",
    "            for unit in [\"cup\", \"c.\", \"oz\", \"gram\", \"g\"]:\n",
    "                if unit+\"s\" in ing:\n",
    "                    split = ing.split(\" \"+\"cup\"+\"s \")\n",
    "                else:\n",
    "                    split = ing.split(\" \"+\"cup\"+\" \")\n",
    "                \n",
    "        if len(split) > 1:\n",
    "            quant = split[0]\n",
    "            desc = split[1]\n",
    "            \n",
    "            \n",
    "        "
   ]
  }
 ],
 "metadata": {
  "kernelspec": {
   "display_name": "Python 3",
   "language": "python",
   "name": "python3"
  },
  "language_info": {
   "codemirror_mode": {
    "name": "ipython",
    "version": 3
   },
   "file_extension": ".py",
   "mimetype": "text/x-python",
   "name": "python",
   "nbconvert_exporter": "python",
   "pygments_lexer": "ipython3",
   "version": "3.7.3"
  }
 },
 "nbformat": 4,
 "nbformat_minor": 2
}
