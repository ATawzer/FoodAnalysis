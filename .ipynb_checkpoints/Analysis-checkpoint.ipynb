{
 "cells": [
  {
   "cell_type": "code",
   "execution_count": 1,
   "metadata": {},
   "outputs": [],
   "source": [
    "import pandas as pd\n",
    "import numpy as np\n",
    "import matplotlib.pyplot as plt\n",
    "import json\n",
    "import pymongo"
   ]
  },
  {
   "cell_type": "code",
   "execution_count": 2,
   "metadata": {},
   "outputs": [],
   "source": [
    "# Database setup\n",
    "client = pymongo.MongoClient(\"mongodb://localhost:27017/\")\n",
    "db = client['food_analysis']\n",
    "recipes = db['recipes']"
   ]
  },
  {
   "cell_type": "code",
   "execution_count": 6,
   "metadata": {},
   "outputs": [],
   "source": [
    "choco_chip = pd.DataFrame(list(recipes.find({\"title\":{\"$regex\":\"chocolate chip\", \"$options\" :'i'}})))"
   ]
  },
  {
   "cell_type": "code",
   "execution_count": null,
   "metadata": {},
   "outputs": [],
   "source": [
    "# Ingredient Reference\n",
    "ir = {\"flour\":{\n",
    "    \"types\":['all-purpose', \"white\", \"brown\", \"spelt\", \"oat\", \"millet\"\n",
    "             \"whole-wheat\", \"almond\", \"tapioca\", \"sorghum\", \"rice\", \"coconut\", \"garfava\"\n",
    "            \"barley\", \"cake\", \"bread\", \"self-rising\", \"soy\", \"pastry\"]\n",
    "    \"common_units\":[\"cup\", \"c.\", \"oz\", \"gram\", \"g\"]\n",
    "}}\n",
    "\n",
    "# Quantities\n",
    "units = [\"cup\", \"g\", 'teaspoons', \"tsp\", \"tbsp\", \"g\", \"oz\", 'tablespoons','cups','containers','packets','bags','quarts','pounds','cans','bottles',\n",
    "        'pints','packages','ounces','jars','heads','gallons','drops','envelopes','bars','boxes','pinches',\n",
    "        'dashes','bunches','recipes','layers','slices','links','bulbs','stalks','squares','sprigs',\n",
    "        'fillets','pieces','legs','thighs','cubes','granules','strips','trays','leaves','loaves','halves']\n",
    "\n",
    "fractions = [\"↉\", \"⅒\", \"⅑\", \"⅛\", \"⅐\", \"⅙\", \"⅕\", \"¼\", \"⅓\", \"½\", \"⅖\", \"⅔\", \"⅜\", \"⅗\", \"¾\", \"⅘\", \"⅝\", \"⅚\", \"⅞\"]"
   ]
  },
  {
   "cell_type": "code",
   "execution_count": null,
   "metadata": {},
   "outputs": [],
   "source": [
    "# The staples\n",
    "choco_chip['flour'] = "
   ]
  },
  {
   "cell_type": "code",
   "execution_count": 13,
   "metadata": {},
   "outputs": [
    {
     "ename": "SyntaxError",
     "evalue": "can't assign to function call (<ipython-input-13-9e2c56ef5d13>, line 2)",
     "output_type": "error",
     "traceback": [
      "\u001b[1;36m  File \u001b[1;32m\"<ipython-input-13-9e2c56ef5d13>\"\u001b[1;36m, line \u001b[1;32m2\u001b[0m\n\u001b[1;33m    for ing.lower() in recipe:\u001b[0m\n\u001b[1;37m       ^\u001b[0m\n\u001b[1;31mSyntaxError\u001b[0m\u001b[1;31m:\u001b[0m can't assign to function call\n"
     ]
    }
   ],
   "source": [
    "for recipe in choco_chip.ingredients:\n",
    "    for ing_ in recipe:\n",
    "        ing = ing_.lower()\n",
    "        split=[]\n",
    "        if \"flour\" in ing:\n",
    "            for unit in [\"cup\", \"c.\", \"oz\", \"gram\", \"g\"]:\n",
    "                if unit+\"s\" in ing:\n",
    "                    split = ing.split(\" \"+\"cup\"+\"s \")\n",
    "                else:\n",
    "                    split = ing.split(\" \"+\"cup\"+\" \")\n",
    "                \n",
    "        if len(split) > 1:\n",
    "            quant = split[0]\n",
    "            desc = split[1]\n",
    "            \n",
    "            \n",
    "        "
   ]
  }
 ],
 "metadata": {
  "kernelspec": {
   "display_name": "Python 3",
   "language": "python",
   "name": "python3"
  },
  "language_info": {
   "codemirror_mode": {
    "name": "ipython",
    "version": 3
   },
   "file_extension": ".py",
   "mimetype": "text/x-python",
   "name": "python",
   "nbconvert_exporter": "python",
   "pygments_lexer": "ipython3",
   "version": "3.7.4"
  }
 },
 "nbformat": 4,
 "nbformat_minor": 2
}
