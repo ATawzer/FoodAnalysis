{
 "cells": [
  {
   "cell_type": "code",
   "execution_count": 1,
   "metadata": {},
   "outputs": [],
   "source": [
    "import pandas as pd\n",
    "from recipe_scrapers import scrape_me\n",
    "import time\n",
    "import random\n",
    "import json"
   ]
  },
  {
   "cell_type": "code",
   "execution_count": null,
   "metadata": {
    "code_folding": [
     0,
     6
    ]
   },
   "outputs": [],
   "source": [
    "def wait():\n",
    "    \n",
    "    x = random.randrange(2, 31, 1)\n",
    "    print(f\"Waiting for {x} Seconds.\", end='\\r')\n",
    "    time.sleep(x)\n",
    "\n",
    "def scrape_database():\n",
    "    \n",
    "    # read in database\n",
    "    path = 'recipe_url_database.csv'\n",
    "    output = 'scraped_database.csv'    \n",
    "    df = pd.read_csv(path)\n",
    "    df_scrape = df[df.Read == 0]\n",
    "    \n",
    "    # Dictionary to store information\n",
    "    d1 = {}\n",
    "    \n",
    "    # scrape and save information\n",
    "    for index in df_scrape.index:\n",
    "        \n",
    "        # Random Timing\n",
    "        x = random.randrange(2, 31, 1)\n",
    "        print(f\"Waiting for {x} Seconds.\", end='\\r')\n",
    "        time.sleep(x)\n",
    "        \n",
    "        # Inits\n",
    "        d2 = {}\n",
    "        url = df_scrape.loc[index, 'URL']\n",
    "        scraper = scrape_me(url)\n",
    "        \n",
    "        # save information\n",
    "        d2['url'] = url\n",
    "        d2['title'] = scraper.title()\n",
    "        d2['total_time'] = scraper.total_time()\n",
    "        d2['yields'] = scraper.yields()\n",
    "        d2['ingredients'] = scraper.ingredients()\n",
    "        d2['instructions'] = scraper.instructions()\n",
    "        d2['rating'] = scraper.ratings()\n",
    "        d2['id'] = url.split('recipe/')[1].split('/')[0]\n",
    "\n",
    "        # save\n",
    "        d1[url] = d2\n",
    "        df.loc[index, 'Read'] = 1\n",
    "    \n",
    "    df.to_csv(path, index=False)\n",
    "    return d1"
   ]
  },
  {
   "cell_type": "code",
   "execution_count": 33,
   "metadata": {},
   "outputs": [],
   "source": [
    "try:\n",
    "    url_database = json.load(open(\"url_database.json\"))\n",
    "except:\n",
    "    url_database = {}"
   ]
  },
  {
   "cell_type": "markdown",
   "metadata": {},
   "source": [
    "# 1. Retrieve the scraped files and to URL database"
   ]
  },
  {
   "cell_type": "markdown",
   "metadata": {},
   "source": [
    "### My Baking Addiction"
   ]
  },
  {
   "cell_type": "code",
   "execution_count": 24,
   "metadata": {},
   "outputs": [],
   "source": [
    "mba_json = json.load(open(\"./scraped_urls/my_baking_addiction_scraped.json\"))"
   ]
  },
  {
   "cell_type": "code",
   "execution_count": 25,
   "metadata": {
    "code_folding": [
     0
    ]
   },
   "outputs": [],
   "source": [
    "# Create a new entry if not found, otherwise continue\n",
    "if 'my_baking_addiction' not in url_database.keys():\n",
    "    url_database['my_baking_addiction'] = {}"
   ]
  },
  {
   "cell_type": "code",
   "execution_count": 26,
   "metadata": {
    "code_folding": [
     0
    ]
   },
   "outputs": [],
   "source": [
    "# For each category\n",
    "for category in mba_json:\n",
    "    for recipe in mba_json[category]:\n",
    "        if \"https://www.mybakingaddiction.com/\" not in recipe:\n",
    "            continue\n",
    "        else:       \n",
    "            if recipe in url_database['my_baking_addiction'].keys():\n",
    "                continue\n",
    "            else:\n",
    "                url_database['my_baking_addiction'][recipe] = {}\n",
    "                url_database['my_baking_addiction'][recipe]['name'] = recipe.split('.com/')[1][:-1]\n",
    "                url_database['my_baking_addiction'][recipe]['read'] = False\n",
    "                url_database['my_baking_addiction'][recipe]['type'] = [category]\n",
    "                url_database['my_baking_addiction'][recipe]['source'] = 'my_baking_addiction'"
   ]
  },
  {
   "cell_type": "code",
   "execution_count": 32,
   "metadata": {},
   "outputs": [],
   "source": [
    "# Save\n",
    "json.dump(url_database, open(\"url_database.json\", \"w\"))"
   ]
  },
  {
   "cell_type": "markdown",
   "metadata": {},
   "source": [
    "### Southern Living"
   ]
  },
  {
   "cell_type": "code",
   "execution_count": null,
   "metadata": {},
   "outputs": [],
   "source": []
  },
  {
   "cell_type": "markdown",
   "metadata": {},
   "source": [
    "# 2. Scrape the websites for the Recipe Data"
   ]
  },
  {
   "cell_type": "code",
   "execution_count": null,
   "metadata": {},
   "outputs": [],
   "source": [
    "scraped_dict = scrape_database()"
   ]
  }
 ],
 "metadata": {
  "kernelspec": {
   "display_name": "Python 3",
   "language": "python",
   "name": "python3"
  },
  "language_info": {
   "codemirror_mode": {
    "name": "ipython",
    "version": 3
   },
   "file_extension": ".py",
   "mimetype": "text/x-python",
   "name": "python",
   "nbconvert_exporter": "python",
   "pygments_lexer": "ipython3",
   "version": "3.7.3"
  }
 },
 "nbformat": 4,
 "nbformat_minor": 2
}
