{
 "cells": [
  {
   "cell_type": "markdown",
   "metadata": {},
   "source": [
    "# DB Cleaning"
   ]
  },
  {
   "cell_type": "code",
   "execution_count": 49,
   "metadata": {},
   "outputs": [],
   "source": [
    "# Setup\n",
    "source = \"your_cup_of_cake\"\n",
    "unique_cols = [\"title\", \"datePublished\"]\n",
    "select_cols = [x for x in unique_cols]\n",
    "select_cols.append(\"_id\")"
   ]
  },
  {
   "cell_type": "code",
   "execution_count": 50,
   "metadata": {},
   "outputs": [
    {
     "name": "stdout",
     "output_type": "stream",
     "text": [
      "Recipes Found: 874\n"
     ]
    }
   ],
   "source": [
    "# Determine Dups\n",
    "df = pd.DataFrame(list(recipes.find({\"source\":source})))\n",
    "print(f\"Recipes Found: {len(df)}\")\n",
    "\n",
    "df = df[select_cols].groupby(unique_cols, as_index=False)\n",
    "df = df[\"_id\"].apply(list).reset_index(name=\"ids\")"
   ]
  },
  {
   "cell_type": "code",
   "execution_count": 51,
   "metadata": {},
   "outputs": [
    {
     "data": {
      "application/vnd.jupyter.widget-view+json": {
       "model_id": "e07f8d74a39c4c7c808c8defebe28cda",
       "version_major": 2,
       "version_minor": 0
      },
      "text/plain": [
       "HBox(children=(FloatProgress(value=0.0, max=567.0), HTML(value='')))"
      ]
     },
     "metadata": {},
     "output_type": "display_data"
    },
    {
     "name": "stdout",
     "output_type": "stream",
     "text": [
      "\n"
     ]
    }
   ],
   "source": [
    "# Remove the duplicates\n",
    "for index in tqdm(df.index):\n",
    "    if len(df.loc[index, 'ids']) > 1:\n",
    "        delete = [x for x in df.loc[index, 'ids'][1:]]\n",
    "        for did in delete:\n",
    "            recipes.delete_one({\"_id\":did})"
   ]
  },
  {
   "cell_type": "code",
   "execution_count": 52,
   "metadata": {},
   "outputs": [
    {
     "name": "stdout",
     "output_type": "stream",
     "text": [
      "Recipes After de-dup: 567\n"
     ]
    }
   ],
   "source": [
    "print(f\"Recipes After de-dup: {len(list(recipes.find({'source':source})))}\")"
   ]
  },
  {
   "cell_type": "code",
   "execution_count": 53,
   "metadata": {},
   "outputs": [
    {
     "name": "stdout",
     "output_type": "stream",
     "text": [
      "Recipes Found: 567\n"
     ]
    },
    {
     "data": {
      "text/plain": [
       "567"
      ]
     },
     "execution_count": 53,
     "metadata": {},
     "output_type": "execute_result"
    }
   ],
   "source": [
    "# by Title Alone\n",
    "unique_cols = [\"title\"]\n",
    "select_cols = [x for x in unique_cols]\n",
    "select_cols.append(\"_id\")\n",
    "# Determine Dups\n",
    "df = pd.DataFrame(list(recipes.find({\"source\":source})))\n",
    "print(f\"Recipes Found: {len(df)}\")\n",
    "\n",
    "df = df[select_cols].groupby(unique_cols, as_index=False)\n",
    "sum(df.count()[\"_id\"])"
   ]
  }
 ],
 "metadata": {
  "kernelspec": {
   "display_name": "Python 3",
   "language": "python",
   "name": "python3"
  },
  "language_info": {
   "codemirror_mode": {
    "name": "ipython",
    "version": 3
   },
   "file_extension": ".py",
   "mimetype": "text/x-python",
   "name": "python",
   "nbconvert_exporter": "python",
   "pygments_lexer": "ipython3",
   "version": "3.7.3"
  }
 },
 "nbformat": 4,
 "nbformat_minor": 2
}
